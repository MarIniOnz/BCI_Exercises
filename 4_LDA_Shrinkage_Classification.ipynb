{
 "cells": [
  {
   "cell_type": "markdown",
   "metadata": {},
   "source": [
    "### General rules:\n",
    " * For all figures that you generate, remember to add meaningful labels to the axes (including units), and provide a legend and colorbar, if applicable.\n",
    " * Do not hard code constants, like number of samples, number of channels, etc in your program. These values should always be determined from the given data. This way, you can easily use the code to analyse other data sets.\n",
    " * Do not use high-level functions from toolboxes like scikit-learn.\n",
    " * Before submitting, check your code by executing: Kernel -> Restart & run all.\n",
    " * Replace *Template* by your *FirstnameLastname* in the filename."
   ]
  },
  {
   "cell_type": "markdown",
   "metadata": {},
   "source": [
    "# AAND BCI - Exercise Sheet #04"
   ]
  },
  {
   "cell_type": "markdown",
   "metadata": {},
   "source": [
    "#### Name: Martin Iniguez de Onzono"
   ]
  },
  {
   "cell_type": "code",
   "execution_count": 1,
   "metadata": {},
   "outputs": [],
   "source": [
    "%matplotlib inline\n",
    "\n",
    "import numpy as np\n",
    "import scipy as sp\n",
    "from matplotlib import pyplot as plt\n",
    "\n",
    "import bci_minitoolbox as bci\n",
    "import bci_classifiers as cfy"
   ]
  },
  {
   "cell_type": "markdown",
   "metadata": {},
   "source": [
    "## Exercise 1: Implementation of Shrinkage for Covariance Estimation  (4 points)\n",
    "Implement a function `cov_shrink` that estimates the covariance matrix of data using shrinkage with the analytic method of determining the shrinkage coefficient as presented in the lecture. Input and output of that function should be as in the function `numpy.cov`.\n",
    "\n",
    "If you cannot succeed with this task, you may import the function `cov_shrink` from `bci_helper_sheet4.pyc` (available at the moodle page) for the subsequent exercises."
   ]
  },
  {
   "cell_type": "code",
   "execution_count": 2,
   "metadata": {},
   "outputs": [],
   "source": [
    "def cov_shrink(X):\n",
    "    '''\n",
    "    Estimate covariance of given data using shrinkage estimator.\n",
    "    \n",
    "    Synopsis:\n",
    "        C= cov_shrink(X)\n",
    "    Argument:\n",
    "        X: data matrix (features x samples)\n",
    "    Output:\n",
    "        C: estimated covariance matrix\n",
    "    '''\n",
    "\n",
    "    d, K = X.shape\n",
    "    \n",
    "    cov = np.cov(X)\n",
    "    eig_val, eig_vec = np.linalg.eigh(cov)\n",
    "    nu = np.mean(eig_val)\n",
    "    r_sq = (cov-nu* np.eye(d))**2\n",
    "    \n",
    "    mu = np.mean(X, axis=1).reshape((d,1))\n",
    "    Z = np.zeros((d,d,K))\n",
    "    \n",
    "    for k in range(K):\n",
    "        Z[:,:,k]= (X[:,k].reshape((d,1))-mu) @ (X[:,k].reshape((d,1))-mu).T \n",
    "    \n",
    "    gamma = (K/((K-1)**2))* np.sum(np.var(Z,axis=2))/np.sum(r_sq)\n",
    "    \n",
    "    C = eig_vec @ ((1-gamma)*np.diag(eig_val)+ gamma*nu*np.eye(d)) @ eig_vec.T\n",
    "    \n",
    "    return C"
   ]
  },
  {
   "cell_type": "markdown",
   "metadata": {},
   "source": [
    "## Exercise 2: Implementation of LDA with Shrinkage  (2 point)\n",
    "Implement a function `train_LDAshrink` that calculates the LDA classifier in which the estimation of the covariance matrices is enhanced by shrinkage. Input and output should be the same as for `train_LDA` from sheet \\#03. As for LDA, use the pseudo inverse (`numpy.linalg.pinv`) instead of the usual matrix inversion. \n",
    "\n",
    "If you cannot succeed with this task, you may import the function `train_LDAshrink` from `bci_cheat_sheet4.pyc` (available at the moodle page) for the subsequent exercises."
   ]
  },
  {
   "cell_type": "code",
   "execution_count": 3,
   "metadata": {},
   "outputs": [],
   "source": [
    "def train_LDAshrink(X, y):\n",
    "    '''\n",
    "    Synopsis:\n",
    "        w, b= train_LDAshrink(X, y)\n",
    "    Arguments:\n",
    "        X: data matrix (features X samples)\n",
    "        y: labels with values 0 and 1 (1 x samples)\n",
    "    Output:\n",
    "        w: LDA weight vector\n",
    "        b: bias term\n",
    "    '''\n",
    "    \n",
    "    mu_0 = np.mean(X[:, y==0], axis=1).flatten()\n",
    "    mu_1 = np.mean(X[:, y==1], axis=1).flatten()\n",
    "    \n",
    "    cov = cov_shrink(X) \n",
    "    \n",
    "    w = np.linalg.pinv(cov)@(mu_1-mu_0)\n",
    "    b = w.T @ (mu_1+mu_0)/2\n",
    "    \n",
    "    return w, b"
   ]
  },
  {
   "cell_type": "markdown",
   "metadata": {},
   "source": [
    "## Preparation: Load data"
   ]
  },
  {
   "cell_type": "code",
   "execution_count": 4,
   "metadata": {},
   "outputs": [],
   "source": [
    "fname = 'erp_hexVPsag.npz'\n",
    "cnt, fs, clab, mnt, mrk_pos, mrk_class, mrk_className = bci.load_data(fname)"
   ]
  },
  {
   "cell_type": "markdown",
   "metadata": {},
   "source": [
    "## Exercise 3: Classification of Spatio-Temporal Features  (4 points)\n",
    "First, use the time-averaged potential in each of the intervals [ms]: 160-200, 200-220, 230-260, 260-290, 300-320, 330-370, 380-430, and 480-520 as feature vector (dimension 55 `x` 1) for each trial. For each interval calculate the 3-fold cross-validation error using LDA with and without shrinkage.\n",
    "\n",
    "In a second step, concatenate the eight feature vectors, that were calcualted for the eight specified intervals into one feature vector (dimension 440 `x` 1) for each trial. Again, determine the 3-fold cross-validation error using LDA with and without shrinkage."
   ]
  },
  {
   "cell_type": "code",
   "execution_count": 6,
   "metadata": {},
   "outputs": [
    {
     "name": "stdout",
     "output_type": "stream",
     "text": [
      "The error percent on the concatenated features classifications are: \n",
      "Shrink LDA = 21.38\n",
      "Conventional LDA =27.13\n"
     ]
    },
    {
     "data": {
      "image/png": "[encoded data removed]",
      "text/plain": [
       "<Figure size 576x288 with 1 Axes>"
      ]
     },
     "metadata": {
      "needs_background": "light"
     },
     "output_type": "display_data"
    }
   ],
   "source": [
    "ival = [[160, 200], [200, 220], [230, 260], [260, 290], [300, 320], [330, 370], [380, 430], [480, 520]]\n",
    "\n",
    "error_Te_LDA_shrink_1 = np.zeros(8)\n",
    "error_Te_LDA_1 = np.zeros(8)\n",
    "t = np.zeros(8)\n",
    "means_conc = None\n",
    "\n",
    "\n",
    "for i in range(8):\n",
    "    \n",
    "    epos, epos_t = bci.makeepochs(cnt, fs, mrk_pos, ival[i])\n",
    "    means = np.mean(epos , axis = 0)\n",
    "    t[i] = np.mean(ival[i])\n",
    "    \n",
    "    if means_conc is None:\n",
    "        means_conc = means\n",
    "    else:\n",
    "        means_conc = np.vstack((means_conc,means))\n",
    "    \n",
    "    error_Te_LDA_shrink_1[i],_ = cfy.crossvalidation(train_LDAshrink, means, mrk_class, folds=3)\n",
    "    error_Te_LDA_1[i],_ = cfy.crossvalidation(cfy.train_LDA, means, mrk_class, folds=3)\n",
    "\n",
    "error_Te_LDA_shrink_concat, _ = cfy.crossvalidation(train_LDAshrink, means_conc, mrk_class, folds=3)\n",
    "error_Te_LDA_concat, _ = cfy.crossvalidation(cfy.train_LDA, means_conc, mrk_class, folds=3)\n",
    "\n",
    "error_Te_LDA_shrink_concat = round(error_Te_LDA_shrink_concat,2)\n",
    "error_Te_LDA_concat = round(error_Te_LDA_concat,2)\n",
    "\n",
    "fig = plt.figure(figsize=(8,4))\n",
    "\n",
    "plt.plot(t,error_Te_LDA_1,label='LDA')\n",
    "plt.ylabel('Percent error')\n",
    "plt.title('Comparison between class. methods using time-averaged pot.')\n",
    "plt.xlabel('Interval mean times')\n",
    "plt.plot(t,error_Te_LDA_shrink_1,label='LDA shrink')\n",
    "plt.legend()\n",
    "\n",
    "print(f'The error percent on the concatenated features classifications are: \\nShrink LDA = {error_Te_LDA_shrink_concat}\\nConventional LDA ={error_Te_LDA_concat}')"
   ]
  }
 ],
 "metadata": {
  "kernelspec": {
   "display_name": "Python 3",
   "language": "python",
   "name": "python3"
  },
  "language_info": {
   "codemirror_mode": {
    "name": "ipython",
    "version": 3
   },
   "file_extension": ".py",
   "mimetype": "text/x-python",
   "name": "python",
   "nbconvert_exporter": "python",
   "pygments_lexer": "ipython3",
   "version": "3.8.3"
  }
 },
 "nbformat": 4,
 "nbformat_minor": 1
}
